{
 "cells": [
  {
   "cell_type": "markdown",
   "metadata": {},
   "source": [
    "![title](titulo.png)\n"
   ]
  },
  {
   "cell_type": "markdown",
   "metadata": {},
   "source": [
    "#                                     REGRESSÃO LINEAR SIMPLES\n",
    "\n",
    "Arquivo para apresentar os testes utilizados"
   ]
  },
  {
   "cell_type": "code",
   "execution_count": 20,
   "metadata": {},
   "outputs": [],
   "source": [
    "import numpy as np\n",
    "import matplotlib.pyplot as plt\n",
    "import math\n",
    "\n",
    "%matplotlib inline"
   ]
  },
  {
   "cell_type": "markdown",
   "metadata": {},
   "source": [
    "## Dados"
   ]
  },
  {
   "cell_type": "code",
   "execution_count": 32,
   "metadata": {},
   "outputs": [],
   "source": [
    "X = [0.5, 2.2, 2.0, 2.9]\n",
    "y = [2.0, 2.5, 1.4, 2.3]"
   ]
  },
  {
   "cell_type": "markdown",
   "metadata": {},
   "source": [
    "## Taxa de Aprendizado (velocidade de descida)\n",
    "<img src=\"alpha.jpg\" alt=\"Drawing\" style=\"width:100px; float:left; left:300px;\"/>"
   ]
  },
  {
   "cell_type": "code",
   "execution_count": 22,
   "metadata": {},
   "outputs": [],
   "source": [
    "alpha = 0.01"
   ]
  },
  {
   "cell_type": "markdown",
   "metadata": {},
   "source": [
    "## w0 e w1 iniciais (pesos)"
   ]
  },
  {
   "cell_type": "code",
   "execution_count": 23,
   "metadata": {},
   "outputs": [],
   "source": [
    "w0 = 0.1\n",
    "w1 = 0.1"
   ]
  },
  {
   "cell_type": "markdown",
   "metadata": {},
   "source": [
    "## Hipótese\n",
    "### ŷ = w0 + w1.X"
   ]
  },
  {
   "cell_type": "code",
   "execution_count": 26,
   "metadata": {},
   "outputs": [],
   "source": [
    "def y_hat (x, w0, w1):\n",
    "    return w0 + w1*x"
   ]
  },
  {
   "cell_type": "code",
   "execution_count": 27,
   "metadata": {},
   "outputs": [
    {
     "data": {
      "text/plain": [
       "0.30000000000000004"
      ]
     },
     "execution_count": 27,
     "metadata": {},
     "output_type": "execute_result"
    }
   ],
   "source": [
    "## Predição de alto custo\n",
    "y_hat(2.0, w0, w1)"
   ]
  },
  {
   "cell_type": "code",
   "execution_count": 28,
   "metadata": {},
   "outputs": [],
   "source": [
    "def plot_line(X, y, w0, w1):\n",
    "    x_values = [i for i in range(int(min(X))-1,int(max(X))+2)]\n",
    "    y_values = [y_hat(x, w0, w1) for x in x_values]\n",
    "    plt.plot(x_values,y_values,'r')\n",
    "    plt.plot(X,y,'bo')"
   ]
  },
  {
   "cell_type": "markdown",
   "metadata": {},
   "source": [
    "## Grafico Primeira Previsão"
   ]
  },
  {
   "cell_type": "code",
   "execution_count": 35,
   "metadata": {},
   "outputs": [
    {
     "data": {
      "image/png": "[encoded data removed]",
      "text/plain": [
       "<Figure size 432x288 with 1 Axes>"
      ]
     },
     "metadata": {
      "needs_background": "light"
     },
     "output_type": "display_data"
    }
   ],
   "source": [
    "plot_line(X, y, w0, w1)"
   ]
  },
  {
   "cell_type": "markdown",
   "metadata": {},
   "source": [
    "## FUNÇÃO MSE (Média do erro ao quadrado)\n",
    "\n",
    "<img src='mse-erro.png' style=\"width:500px; float:left\"/> "
   ]
  },
  {
   "cell_type": "code",
   "execution_count": 36,
   "metadata": {},
   "outputs": [],
   "source": [
    "def MSE (X, y , w0 , w1):\n",
    "    custo = 0\n",
    "    m = float(len(X))\n",
    "    for i in range(0, len(X)):\n",
    "        custo += (y_hat(X[i], w0, w1)-y[i])**2\n",
    "        \n",
    "    return custo/m\n"
   ]
  },
  {
   "cell_type": "code",
   "execution_count": 37,
   "metadata": {},
   "outputs": [
    {
     "data": {
      "text/plain": [
       "3.2582499999999994"
      ]
     },
     "execution_count": 37,
     "metadata": {},
     "output_type": "execute_result"
    }
   ],
   "source": [
    "MSE(X,y, w0, w1)"
   ]
  },
  {
   "cell_type": "markdown",
   "metadata": {},
   "source": [
    "<h1 style=\"color:blue\"> ALGORITMO DO GRADIENTE DESCENDENTE</h1>\n",
    "\n",
    "<img src='gradiente.png' style=\"width:500px; float:left\"/> "
   ]
  },
  {
   "cell_type": "code",
   "execution_count": 38,
   "metadata": {},
   "outputs": [],
   "source": [
    "def gradient_descent_step(w0, w1, X, y, alpha):\n",
    "    \n",
    "    erro_w0 = 0\n",
    "    erro_w1 = 0\n",
    "    m = float(len(X))\n",
    "    \n",
    "    for i in range(0,len(X)):\n",
    "        erro_w0 += y_hat(X[i], w0, w1) - y[i]\n",
    "        erro_w1 += (y_hat(X[i], w0, w1) - y[i]) * X[i]\n",
    "        \n",
    "    new_w0 = w0 - alpha * (1/m) * erro_w0\n",
    "    new_w1 = w1 - alpha * (1/m) * erro_w1\n",
    "\n",
    "    return new_w0, new_w1\n"
   ]
  },
  {
   "cell_type": "markdown",
   "metadata": {},
   "source": [
    "## Loop do Gradiente Descendente"
   ]
  },
  {
   "cell_type": "code",
   "execution_count": 39,
   "metadata": {},
   "outputs": [],
   "source": [
    "epoch = 800"
   ]
  },
  {
   "cell_type": "code",
   "execution_count": 40,
   "metadata": {},
   "outputs": [],
   "source": [
    "def gradient_descent(w0, w1, X, y, alpha, epoch):\n",
    "    custo = np.zeros(epoch)\n",
    "    for i in range(epoch):\n",
    "        w0 , w1 = gradient_descent_step(w0, w1, X, y , alpha)\n",
    "        custo[i] = MSE(X,y,w0,w1)\n",
    "        \n",
    "    return w0, w1, custo"
   ]
  },
  {
   "cell_type": "code",
   "execution_count": 41,
   "metadata": {},
   "outputs": [],
   "source": [
    "w0 , w1 , custo = gradient_descent(w0, w1, X, y, alpha, epoch)"
   ]
  },
  {
   "cell_type": "code",
   "execution_count": 42,
   "metadata": {},
   "outputs": [
    {
     "data": {
      "text/plain": [
       "array([2.97734768, 2.72495122, 2.49815787, 2.2943605 , 2.11121752,\n",
       "       1.94662576, 1.79869626, 1.66573244, 1.54621048, 1.43876175,\n",
       "       1.34215701, 1.25529219, 1.17717567, 1.1069168 , 1.04371566,\n",
       "       0.98685376, 0.93568581, 0.88963221, 0.84817241, 0.81083884,\n",
       "       0.77721159, 0.74691347, 0.71960573, 0.69498411, 0.67277533,\n",
       "       0.65273393, 0.63463949, 0.61829398, 0.60351957, 0.59015654,\n",
       "       0.57806142, 0.56710536, 0.55717264, 0.5481593 , 0.53997198,\n",
       "       0.53252683, 0.52574854, 0.51956946, 0.51392883, 0.50877209,\n",
       "       0.50405021, 0.49971918, 0.49573946, 0.49207553, 0.48869549,\n",
       "       0.48557069, 0.4826754 , 0.47998651, 0.47748325, 0.47514697,\n",
       "       0.47296094, 0.4709101 , 0.46898094, 0.46716132, 0.46544035,\n",
       "       0.46380823, 0.46225616, 0.46077625, 0.4593614 , 0.45800522,\n",
       "       0.456702  , 0.4554466 , 0.45423438, 0.45306121, 0.45192334,\n",
       "       0.45081744, 0.44974048, 0.44868978, 0.44766289, 0.44665764,\n",
       "       0.44567206, 0.4447044 , 0.44375307, 0.44281664, 0.44189384,\n",
       "       0.44098353, 0.44008466, 0.43919631, 0.43831764, 0.43744791,\n",
       "       0.43658644, 0.43573262, 0.43488592, 0.43404583, 0.43321191,\n",
       "       0.43238378, 0.43156107, 0.43074346, 0.42993066, 0.42912242,\n",
       "       0.42831849, 0.42751866, 0.42672275, 0.42593058, 0.425142  ,\n",
       "       0.42435687, 0.42357506, 0.42279645, 0.42202095, 0.42124846,\n",
       "       0.42047889, 0.41971218, 0.41894824, 0.41818702, 0.41742847,\n",
       "       0.41667251, 0.41591912, 0.41516825, 0.41441986, 0.41367391,\n",
       "       0.41293036, 0.4121892 , 0.41145039, 0.4107139 , 0.40997971,\n",
       "       0.40924781, 0.40851816, 0.40779075, 0.40706557, 0.4063426 ,\n",
       "       0.40562181, 0.40490321, 0.40418677, 0.40347248, 0.40276033,\n",
       "       0.40205031, 0.4013424 , 0.4006366 , 0.3999329 , 0.39923128,\n",
       "       0.39853175, 0.39783428, 0.39713887, 0.39644552, 0.39575421,\n",
       "       0.39506494, 0.39437769, 0.39369247, 0.39300927, 0.39232807,\n",
       "       0.39164887, 0.39097167, 0.39029645, 0.38962322, 0.38895196,\n",
       "       0.38828266, 0.38761533, 0.38694996, 0.38628653, 0.38562505,\n",
       "       0.3849655 , 0.38430789, 0.3836522 , 0.38299843, 0.38234658,\n",
       "       0.38169663, 0.38104859, 0.38040244, 0.37975818, 0.37911581,\n",
       "       0.37847531, 0.37783669, 0.37719994, 0.37656505, 0.37593202,\n",
       "       0.37530084, 0.37467151, 0.37404401, 0.37341835, 0.37279453,\n",
       "       0.37217252, 0.37155234, 0.37093397, 0.3703174 , 0.36970264,\n",
       "       0.36908968, 0.36847851, 0.36786913, 0.36726153, 0.36665571,\n",
       "       0.36605166, 0.36544937, 0.36484885, 0.36425008, 0.36365306,\n",
       "       0.36305779, 0.36246426, 0.36187246, 0.3612824 , 0.36069406,\n",
       "       0.36010744, 0.35952253, 0.35893934, 0.35835785, 0.35777807,\n",
       "       0.35719997, 0.35662357, 0.35604885, 0.35547582, 0.35490446,\n",
       "       0.35433477, 0.35376674, 0.35320038, 0.35263567, 0.35207262,\n",
       "       0.35151121, 0.35095144, 0.35039331, 0.34983681, 0.34928194,\n",
       "       0.34872869, 0.34817706, 0.34762704, 0.34707863, 0.34653182,\n",
       "       0.34598661, 0.345443  , 0.34490097, 0.34436053, 0.34382167,\n",
       "       0.34328439, 0.34274868, 0.34221453, 0.34168195, 0.34115092,\n",
       "       0.34062145, 0.34009352, 0.33956714, 0.3390423 , 0.33851899,\n",
       "       0.33799721, 0.33747696, 0.33695822, 0.33644101, 0.33592531,\n",
       "       0.33541111, 0.33489842, 0.33438723, 0.33387753, 0.33336933,\n",
       "       0.33286261, 0.33235737, 0.33185361, 0.33135132, 0.3308505 ,\n",
       "       0.33035114, 0.32985325, 0.32935681, 0.32886182, 0.32836828,\n",
       "       0.32787618, 0.32738552, 0.3268963 , 0.3264085 , 0.32592214,\n",
       "       0.32543719, 0.32495367, 0.32447155, 0.32399085, 0.32351155,\n",
       "       0.32303366, 0.32255716, 0.32208205, 0.32160833, 0.321136  ,\n",
       "       0.32066505, 0.32019548, 0.31972728, 0.31926045, 0.31879498,\n",
       "       0.31833088, 0.31786813, 0.31740674, 0.31694669, 0.31648799,\n",
       "       0.31603063, 0.31557461, 0.31511992, 0.31466656, 0.31421453,\n",
       "       0.31376382, 0.31331442, 0.31286634, 0.31241957, 0.31197411,\n",
       "       0.31152995, 0.31108709, 0.31064552, 0.31020524, 0.30976626,\n",
       "       0.30932855, 0.30889213, 0.30845698, 0.3080231 , 0.30759049,\n",
       "       0.30715915, 0.30672907, 0.30630025, 0.30587268, 0.30544636,\n",
       "       0.30502128, 0.30459745, 0.30417486, 0.30375351, 0.30333338,\n",
       "       0.30291449, 0.30249682, 0.30208037, 0.30166514, 0.30125112,\n",
       "       0.30083831, 0.30042672, 0.30001632, 0.29960712, 0.29919912,\n",
       "       0.29879232, 0.2983867 , 0.29798227, 0.29757902, 0.29717695,\n",
       "       0.29677606, 0.29637634, 0.29597779, 0.2955804 , 0.29518418,\n",
       "       0.29478911, 0.2943952 , 0.29400244, 0.29361083, 0.29322036,\n",
       "       0.29283104, 0.29244285, 0.2920558 , 0.29166988, 0.29128509,\n",
       "       0.29090143, 0.29051888, 0.29013746, 0.28975715, 0.28937795,\n",
       "       0.28899986, 0.28862288, 0.288247  , 0.28787221, 0.28749853,\n",
       "       0.28712593, 0.28675443, 0.28638401, 0.28601468, 0.28564642,\n",
       "       0.28527925, 0.28491314, 0.28454811, 0.28418414, 0.28382124,\n",
       "       0.2834594 , 0.28309862, 0.28273889, 0.28238021, 0.28202258,\n",
       "       0.281666  , 0.28131046, 0.28095596, 0.2806025 , 0.28025007,\n",
       "       0.27989867, 0.2795483 , 0.27919895, 0.27885063, 0.27850332,\n",
       "       0.27815703, 0.27781175, 0.27746748, 0.27712422, 0.27678196,\n",
       "       0.2764407 , 0.27610044, 0.27576118, 0.27542291, 0.27508562,\n",
       "       0.27474932, 0.27441401, 0.27407968, 0.27374632, 0.27341394,\n",
       "       0.27308253, 0.27275209, 0.27242261, 0.2720941 , 0.27176655,\n",
       "       0.27143996, 0.27111432, 0.27078963, 0.2704659 , 0.27014311,\n",
       "       0.26982126, 0.26950036, 0.26918039, 0.26886136, 0.26854326,\n",
       "       0.2682261 , 0.26790985, 0.26759454, 0.26728015, 0.26696667,\n",
       "       0.26665411, 0.26634247, 0.26603174, 0.26572191, 0.26541299,\n",
       "       0.26510498, 0.26479787, 0.26449165, 0.26418633, 0.2638819 ,\n",
       "       0.26357836, 0.26327571, 0.26297395, 0.26267306, 0.26237306,\n",
       "       0.26207393, 0.26177568, 0.2614783 , 0.26118179, 0.26088615,\n",
       "       0.26059137, 0.26029746, 0.2600044 , 0.2597122 , 0.25942085,\n",
       "       0.25913036, 0.25884072, 0.25855192, 0.25826397, 0.25797685,\n",
       "       0.25769058, 0.25740515, 0.25712055, 0.25683678, 0.25655384,\n",
       "       0.25627173, 0.25599045, 0.25570998, 0.25543034, 0.25515152,\n",
       "       0.25487351, 0.25459631, 0.25431992, 0.25404434, 0.25376957,\n",
       "       0.2534956 , 0.25322243, 0.25295006, 0.25267849, 0.25240771,\n",
       "       0.25213773, 0.25186853, 0.25160012, 0.25133249, 0.25106565,\n",
       "       0.25079959, 0.2505343 , 0.25026979, 0.25000606, 0.24974309,\n",
       "       0.24948089, 0.24921947, 0.2489588 , 0.2486989 , 0.24843976,\n",
       "       0.24818137, 0.24792374, 0.24766687, 0.24741074, 0.24715537,\n",
       "       0.24690074, 0.24664685, 0.24639371, 0.24614131, 0.24588964,\n",
       "       0.24563872, 0.24538852, 0.24513906, 0.24489032, 0.24464232,\n",
       "       0.24439504, 0.24414848, 0.24390264, 0.24365752, 0.24341312,\n",
       "       0.24316944, 0.24292646, 0.2426842 , 0.24244264, 0.24220179,\n",
       "       0.24196165, 0.24172221, 0.24148346, 0.24124542, 0.24100807,\n",
       "       0.24077142, 0.24053545, 0.24030018, 0.2400656 , 0.2398317 ,\n",
       "       0.23959848, 0.23936595, 0.2391341 , 0.23890292, 0.23867243,\n",
       "       0.2384426 , 0.23821345, 0.23798497, 0.23775715, 0.23753   ,\n",
       "       0.23730352, 0.2370777 , 0.23685253, 0.23662803, 0.23640418,\n",
       "       0.23618099, 0.23595845, 0.23573656, 0.23551532, 0.23529473,\n",
       "       0.23507478, 0.23485547, 0.23463681, 0.23441879, 0.2342014 ,\n",
       "       0.23398465, 0.23376853, 0.23355304, 0.23333819, 0.23312396,\n",
       "       0.23291036, 0.23269738, 0.23248503, 0.2322733 , 0.23206218,\n",
       "       0.23185169, 0.23164181, 0.23143254, 0.23122388, 0.23101584,\n",
       "       0.2308084 , 0.23060157, 0.23039535, 0.23018972, 0.2299847 ,\n",
       "       0.22978028, 0.22957646, 0.22937323, 0.22917059, 0.22896855,\n",
       "       0.2287671 , 0.22856624, 0.22836597, 0.22816628, 0.22796717,\n",
       "       0.22776865, 0.22757071, 0.22737335, 0.22717656, 0.22698035,\n",
       "       0.22678471, 0.22658965, 0.22639515, 0.22620123, 0.22600787,\n",
       "       0.22581507, 0.22562284, 0.22543118, 0.22524007, 0.22504952,\n",
       "       0.22485953, 0.22467009, 0.22448121, 0.22429288, 0.2241051 ,\n",
       "       0.22391787, 0.22373119, 0.22354506, 0.22335946, 0.22317441,\n",
       "       0.22298991, 0.22280594, 0.22262251, 0.22243961, 0.22225725,\n",
       "       0.22207543, 0.22189413, 0.22171337, 0.22153313, 0.22135342,\n",
       "       0.22117424, 0.22099558, 0.22081744, 0.22063982, 0.22046273,\n",
       "       0.22028615, 0.22011008, 0.21993454, 0.2197595 , 0.21958498,\n",
       "       0.21941096, 0.21923746, 0.21906446, 0.21889197, 0.21871999,\n",
       "       0.2185485 , 0.21837752, 0.21820704, 0.21803706, 0.21786757,\n",
       "       0.21769858, 0.21753008, 0.21736208, 0.21719456, 0.21702754,\n",
       "       0.21686101, 0.21669496, 0.2165294 , 0.21636432, 0.21619972,\n",
       "       0.21603561, 0.21587197, 0.21570882, 0.21554614, 0.21538394,\n",
       "       0.21522221, 0.21506095, 0.21490017, 0.21473985, 0.21458001,\n",
       "       0.21442063, 0.21426172, 0.21410327, 0.21394529, 0.21378776,\n",
       "       0.2136307 , 0.2134741 , 0.21331796, 0.21316227, 0.21300703,\n",
       "       0.21285226, 0.21269793, 0.21254406, 0.21239063, 0.21223765,\n",
       "       0.21208512, 0.21193304, 0.2117814 , 0.21163021, 0.21147946,\n",
       "       0.21132914, 0.21117927, 0.21102984, 0.21088084, 0.21073228,\n",
       "       0.21058415, 0.21043646, 0.21028919, 0.21014236, 0.20999596,\n",
       "       0.20984999, 0.20970444, 0.20955932, 0.20941462, 0.20927034,\n",
       "       0.20912649, 0.20898306, 0.20884005, 0.20869745, 0.20855528,\n",
       "       0.20841351, 0.20827217, 0.20813123, 0.20799071, 0.2078506 ,\n",
       "       0.2077109 , 0.20757161, 0.20743272, 0.20729424, 0.20715617,\n",
       "       0.2070185 , 0.20688123, 0.20674436, 0.2066079 , 0.20647183,\n",
       "       0.20633616, 0.20620089, 0.20606601, 0.20593153, 0.20579744,\n",
       "       0.20566374, 0.20553043, 0.20539751, 0.20526499, 0.20513284,\n",
       "       0.20500109, 0.20486972, 0.20473874, 0.20460813, 0.20447791,\n",
       "       0.20434807, 0.20421862, 0.20408953, 0.20396083, 0.2038325 ,\n",
       "       0.20370455, 0.20357697, 0.20344977, 0.20332293, 0.20319647,\n",
       "       0.20307038, 0.20294466, 0.2028193 , 0.20269431, 0.20256969,\n",
       "       0.20244543, 0.20232153, 0.202198  , 0.20207482, 0.20195201,\n",
       "       0.20182956, 0.20170746, 0.20158572, 0.20146434, 0.20134331,\n",
       "       0.20122264, 0.20110232, 0.20098235, 0.20086273, 0.20074346,\n",
       "       0.20062454, 0.20050597, 0.20038775, 0.20026987, 0.20015233,\n",
       "       0.20003514, 0.19991829, 0.19980178, 0.19968562, 0.19956979,\n",
       "       0.1994543 , 0.19933915, 0.19922434, 0.19910986, 0.19899572,\n",
       "       0.19888191, 0.19876843, 0.19865529, 0.19854247, 0.19842999,\n",
       "       0.19831784, 0.19820601, 0.19809451, 0.19798333, 0.19787248,\n",
       "       0.19776196, 0.19765176, 0.19754188, 0.19743232, 0.19732308,\n",
       "       0.19721416, 0.19710556, 0.19699728, 0.19688932, 0.19678167,\n",
       "       0.19667433, 0.19656731, 0.1964606 , 0.1963542 , 0.19624812,\n",
       "       0.19614234, 0.19603688, 0.19593172, 0.19582687, 0.19572233,\n",
       "       0.19561809, 0.19551415, 0.19541052, 0.1953072 , 0.19520417,\n",
       "       0.19510145, 0.19499903, 0.19489691, 0.19479508, 0.19469356,\n",
       "       0.19459233, 0.19449139, 0.19439075, 0.19429041, 0.19419036,\n",
       "       0.1940906 , 0.19399113, 0.19389196, 0.19379307, 0.19369448])"
      ]
     },
     "execution_count": 42,
     "metadata": {},
     "output_type": "execute_result"
    }
   ],
   "source": [
    "custo"
   ]
  },
  {
   "cell_type": "code",
   "execution_count": 44,
   "metadata": {},
   "outputs": [
    {
     "name": "stdout",
     "output_type": "stream",
     "text": [
      "wo=1.370582819396867, w1=0.32391708018176035\n"
     ]
    }
   ],
   "source": [
    "print(f'wo={w0}, w1={w1}')"
   ]
  },
  {
   "cell_type": "markdown",
   "metadata": {},
   "source": [
    "## Custo"
   ]
  },
  {
   "cell_type": "code",
   "execution_count": 50,
   "metadata": {},
   "outputs": [
    {
     "data": {
      "text/plain": [
       "Text(0, 0.5, 'Custo')"
      ]
     },
     "execution_count": 50,
     "metadata": {},
     "output_type": "execute_result"
    },
    {
     "data": {
      "image/png": "[encoded data removed]",
      "text/plain": [
       "<Figure size 432x288 with 1 Axes>"
      ]
     },
     "metadata": {
      "needs_background": "light"
     },
     "output_type": "display_data"
    }
   ],
   "source": [
    "plt.plot(np.arange(epoch), custo, 'r')\n",
    "plt.xlabel('Iterações')\n",
    "plt.ylabel('Custo')\n"
   ]
  },
  {
   "cell_type": "code",
   "execution_count": 52,
   "metadata": {},
   "outputs": [
    {
     "data": {
      "image/png": "[encoded data removed]",
      "text/plain": [
       "<Figure size 432x288 with 1 Axes>"
      ]
     },
     "metadata": {
      "needs_background": "light"
     },
     "output_type": "display_data"
    }
   ],
   "source": [
    "plot_line(X, y, w0, w1)"
   ]
  },
  {
   "cell_type": "markdown",
   "metadata": {},
   "source": [
    "## Testando a hipótese com os novos pesos:"
   ]
  },
  {
   "cell_type": "code",
   "execution_count": 55,
   "metadata": {},
   "outputs": [
    {
     "data": {
      "text/plain": [
       "2.0184169797603877"
      ]
     },
     "execution_count": 55,
     "metadata": {},
     "output_type": "execute_result"
    }
   ],
   "source": [
    "y_hat(2.0, w0, w1)"
   ]
  },
  {
   "cell_type": "markdown",
   "metadata": {},
   "source": [
    "# Mensagem Incriptada: "
   ]
  },
  {
   "cell_type": "markdown",
   "metadata": {},
   "source": [
    "\\begin{align}\n",
    "\\nabla \\times \\vec{\\mathbf{T}} -\\, \\, \\frac{\\partial\\vec{\\mathbf{A}}}{\\partial N} & = \\frac{K\\S}{c}\\vec{\\mathbf{j}} \\\\   \n",
    "\\end{align}\n",
    "\n",
    "\n",
    "\\begin{equation*}\n",
    "G +  \\frac{a^2}{(B)}+\\frac{i^6}{(R)(O^2)}+\\cdots =\n",
    "\\prod_{T=0}^{\\infty}\\frac{o}.\n",
    "\\end{equation*}"
   ]
  }
 ],
 "metadata": {
  "kernelspec": {
   "display_name": "Python 3",
   "language": "python",
   "name": "python3"
  },
  "language_info": {
   "codemirror_mode": {
    "name": "ipython",
    "version": 3
   },
   "file_extension": ".py",
   "mimetype": "text/x-python",
   "name": "python",
   "nbconvert_exporter": "python",
   "pygments_lexer": "ipython3",
   "version": "3.8.2"
  }
 },
 "nbformat": 4,
 "nbformat_minor": 4
}
